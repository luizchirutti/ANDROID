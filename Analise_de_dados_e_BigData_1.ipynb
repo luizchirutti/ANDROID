{
  "nbformat": 4,
  "nbformat_minor": 0,
  "metadata": {
    "colab": {
      "name": "Analise de dados e BigData 1.ipynb",
      "provenance": [],
      "authorship_tag": "ABX9TyMLLvkj3f1cmpgI921p/ipm",
      "include_colab_link": true
    },
    "kernelspec": {
      "name": "python3",
      "display_name": "Python 3"
    },
    "language_info": {
      "name": "python"
    }
  },
  "cells": [
    {
      "cell_type": "markdown",
      "metadata": {
        "id": "view-in-github",
        "colab_type": "text"
      },
      "source": [
        "<a href=\"https://colab.research.google.com/github/luizchirutti/ANDROID/blob/master/Analise_de_dados_e_BigData_1.ipynb\" target=\"_parent\"><img src=\"https://colab.research.google.com/assets/colab-badge.svg\" alt=\"Open In Colab\"/></a>"
      ]
    },
    {
      "cell_type": "code",
      "execution_count": 7,
      "metadata": {
        "colab": {
          "base_uri": "https://localhost:8080/"
        },
        "id": "nOTHzCRRZ-87",
        "outputId": "623f62f9-3b2d-4376-8344-7fbc3257f42c"
      },
      "outputs": [
        {
          "output_type": "stream",
          "name": "stdout",
          "text": [
            "<class 'int'>\n",
            "<class 'int'>\n",
            "<class 'str'>\n",
            "7\n",
            "6\n",
            "[1, 4, 2, 6, 7, 2, 5, 6]\n",
            "[1, 4, 2, 6, 7, 10]\n"
          ]
        }
      ],
      "source": [
        "#sequencias\n",
        "\n",
        "s = 'abcdefghij'     #string\n",
        "t = 'trtrtry'\n",
        "xs = [1, 4, 2, 6, 7] #lista\n",
        "ys = [2, 5, 6]\n",
        "ts = [4, 5, 6, 1]    #tupla\n",
        "\n",
        "#printando\n",
        "\n",
        "print(type(xs[3]))\n",
        "print(type(ts[2]))\n",
        "print(type(s[3]))\n",
        "print(len(t))\n",
        "print(xs[-2])\n",
        "print(xs + ys)\n",
        "xs.append(10)\n",
        "print(xs)\n",
        "\n"
      ]
    },
    {
      "cell_type": "code",
      "source": [
        ""
      ],
      "metadata": {
        "id": "fnHyW2A6dvPv"
      },
      "execution_count": null,
      "outputs": []
    },
    {
      "cell_type": "code",
      "source": [
        ""
      ],
      "metadata": {
        "id": "27TFWPtLdvdd"
      },
      "execution_count": null,
      "outputs": []
    }
  ]
}