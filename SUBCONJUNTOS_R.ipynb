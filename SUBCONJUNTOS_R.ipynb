{
  "nbformat": 4,
  "nbformat_minor": 0,
  "metadata": {
    "colab": {
      "name": "SUBCONJUNTOS.R",
      "provenance": [],
      "authorship_tag": "ABX9TyMrShqQuiAYDnqqrS702W9p",
      "include_colab_link": true
    },
    "kernelspec": {
      "name": "python3",
      "display_name": "Python 3"
    },
    "language_info": {
      "name": "python"
    }
  },
  "cells": [
    {
      "cell_type": "markdown",
      "metadata": {
        "id": "view-in-github",
        "colab_type": "text"
      },
      "source": [
        "<a href=\"https://colab.research.google.com/github/luizchirutti/ANDROID/blob/master/SUBCONJUNTOS_R.ipynb\" target=\"_parent\"><img src=\"https://colab.research.google.com/assets/colab-badge.svg\" alt=\"Open In Colab\"/></a>"
      ]
    },
    {
      "cell_type": "code",
      "execution_count": null,
      "metadata": {
        "id": "T0qusxMWLiGr"
      },
      "outputs": [],
      "source": [
        "#Nome: Luiz Chirutti\n",
        "#Ra:821239633\n",
        "\n"
      ]
    },
    {
      "cell_type": "markdown",
      "source": [
        "SUB CONJUNTOS EM R"
      ],
      "metadata": {
        "id": "YqPDxATaMrQh"
      }
    },
    {
      "cell_type": "code",
      "source": [
        "#Considere o vetor x abaixo para resolver os exercícios de 1 a 5.\n",
        "#x <- -5:10; x\n",
        "#1. Selecione os 5 primeiros elementos do vetor.\n",
        "x<- -5:10; x\n",
        "x[0:5]\n",
        "#2. Selecione os 10 últimos elementos do vetor. Dica: use c() para criar a sequência e números\n",
        "#negativos para excluir os primeiros 5 elementos.\n",
        "a<-c(x[6:15]);a\n",
        "#3. Selecione os elementos maiores que zero.\n",
        "b<-x[x>0];b\n",
        "#4. Selecione os elementos pares\n",
        "c <- x %% 2;c\n",
        "d <- (c==0);d\n",
        "pares <- x[d];pares\n",
        "#5. Selecione os elementos ímpares maiores que zero\n",
        "e <- (c == 1 & x > 0);e\n",
        "impares = x[e]; impares\n",
        "\n",
        "#Considere a matriz m abaixo para resolver os exercícios de 6 a 10\n",
        "m <- -10:9;m\n",
        "dim(m) <- c(4,5);m\n",
        "#6. Selecione os elementos maiores ou iguais a 0\n",
        "f = m[m>=0];f\n",
        "#7. Selecione os números pares menores que zero e os ímpares maiores que zero\n",
        "g <- (m%%2==0 & m<0);g\n",
        "h <- ( m%%2==1 &m>0);h\n",
        "i <- m[g]; i\n",
        "j <- m[h]; j\n",
        "k <- c(i,j);k\n",
        "#8. Selecione os elementos da primeira coluna\n",
        "l <- m[,1];l\n",
        "#9. Selecione os dois últimos elementos das duas primeiras linhas e os dois primeiros\n",
        "#elementos das duas últimas linhas e crie uma matriz 4 X 2 com eles.\n",
        "n <- m[1:2,4:5];n\n",
        "p <- m[3:4,1:2];p\n",
        "c(m[1:2,4:5],m[3:4,1:2])\n",
        "matrix(nrow = 4,ncol =2,data = c(m[1:2,4:5],m[3:4,1:2]))\n",
        "#10. Os números maiores que zero da primeira e da terceira linhas de m.\n",
        "s <- m[1,];s\n",
        "t <- s[s>0];t #primeira linha\n",
        "u <- m[3,];u\n",
        "v <- u[u>0];v #terceira linha\n",
        "#O R traz consigo uma série de datasets pré carregados para usarmos nos nossos exercícios.\n",
        "#Iremos criar um data frame usando o dataset Titanic. Considere-o para os exercícios de 11 a\n",
        "#13.\n",
        "#?Titanc #execute esta linha para ter mais informações do\n",
        "#dataset\n",
        "#titan <- data.frame(Titanic);titan\n",
        "#11. Liste apenas as linhas da primeira classe (Class igual a 1st)\n",
        "t1 <- titan[titan$Class=='1st',];t1\n",
        "#12. Liste o sexo, a classe e a frequência das crianças que sobreviveram\n",
        "t2 <- titan[titan$Age==\"Child\",];t2\n",
        "t3 <- t2[t2$Survived==\"Yes\",];t3 #t3 = criancas que sobreviveram\n",
        "#13. Selecione todas as frequências de registros masculinos e guarde e um vetor; selecione as\n",
        "#frequências femininas e guarde em outro vetor; some os dois vetores e guarde em um outro\n",
        "#vetor chamado total.\n",
        "homens <- titan[titan$Sex == \"Male\",];homens\n",
        "hom <- c(titan[titan$Sex==\"Male\",]); hom\n",
        "vhom <-c(hom$Freq);vhom #Vetor de frequencia masculino\n",
        "mulheres <- titan[titan$Sex== \"Female\",];mulheres\n",
        "mul <- c(titan[titan$Sex==\"Female\",]);mul\n",
        "vmul<- c(mul$Freq);vmul #vetor de frequencia feminino\n",
        "vtotal <- c(vhom,vmul); vtotal #Vetor total\n",
        "\n",
        "#14. O dataset euro é um vetor nomeado com as cotações do euro (desatualizadas) para\n",
        "#diversas moedas de países da união europeia. Use este vetor para fazer as seguintes\n",
        "#conversões.\n",
        "#?euro #execute para ver a documentação\n",
        "#a. 100 pesetas espanholas (ESP) para euros.\n",
        "pesetas <- 100/euro[\"ESP\"];pesetas\n",
        "#b. 100 euros para liras italianas (ITL).\n",
        "liras <- 100*euro[\"ITL\"];liras\n",
        "#c. 100 escudos portugueses (PTE) para francos belgas (BEF).\n",
        "PorBel <- 100*euro.cross[\"PTE\",\"BEF\"];PorBel\n",
        "\n",
        "#15. No pacote ISwR, do curso de Estatística Introdutória em R do professor Peter Dalgaard da\n",
        "#Copenhagen Business School há uma série de datasets interessantes para aprender R. Um\n",
        "#deles traz dados sobre ocorrências de AVCs em Tartu, na Estônia, de 1991 a 1993. Instale\n",
        "#este pacote, carregue a library e carregue o dataset stroke. A sequência de comandos está\n",
        "#abaixo. Depois, liste todas as linhas de mortes de pacientes no ano de 1992. Remova as linhas\n",
        "#que contém NA. Use a função especial para isso, is.na.POSIXlt. A is.na não funciona\n",
        "#para datas.\n",
        "#install.packages('ISwR')\n",
        "#library(ISwR)\n",
        "#data(stroke, package=\"ISwR\")\n",
        "#?stroke\n",
        "install.packages('ISwR')\n",
        "library(ISwR)\n",
        "data(stroke, package=\"ISwR\")\n",
        "stroke <- data.frame(stroke);stroke\n",
        "d1992 <- stroke[stroke$died == 1992,]; d1992\n",
        "\n"
      ],
      "metadata": {
        "id": "AxqZJ8UeM0hO"
      },
      "execution_count": null,
      "outputs": []
    },
    {
      "cell_type": "code",
      "source": [
        ""
      ],
      "metadata": {
        "id": "A_3pDrcnMsUq"
      },
      "execution_count": null,
      "outputs": []
    }
  ]
}